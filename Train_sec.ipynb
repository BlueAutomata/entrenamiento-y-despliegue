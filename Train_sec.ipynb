{
 "cells": [
  {
   "cell_type": "markdown",
   "metadata": {},
   "source": [
    "# Autores\n",
    "Guillermo Luigui Ubaldo Nieto Angarita \\\n",
    "Jairo Antonio Viteri Rojas"
   ]
  },
  {
   "cell_type": "markdown",
   "metadata": {
    "id": "3Q13Sn3Vmn0u"
   },
   "source": [
    "## Librerías"
   ]
  },
  {
   "cell_type": "code",
   "execution_count": 3,
   "metadata": {
    "id": "JmnLlYMOmi1U"
   },
   "outputs": [],
   "source": [
    "import os\n",
    "import joblib\n",
    "from sklearn.preprocessing import StandardScaler, OneHotEncoder, MinMaxScaler\n",
    "from sklearn.compose import ColumnTransformer\n",
    "from imblearn.over_sampling import SMOTE\n",
    "from imblearn.pipeline import Pipeline\n",
    "from sklearn.ensemble import RandomForestClassifier, GradientBoostingClassifier\n",
    "from sklearn.tree import DecisionTreeClassifier\n",
    "\n",
    "import numpy as np\n",
    "import pandas as pd\n",
    "\n",
    "from sklearn.impute import SimpleImputer\n"
   ]
  },
  {
   "cell_type": "markdown",
   "metadata": {
    "id": "jIZvfaJ4nClW"
   },
   "source": [
    "## Cargue de datos"
   ]
  },
  {
   "cell_type": "code",
   "execution_count": 4,
   "metadata": {
    "id": "N1srfuBinLZI"
   },
   "outputs": [],
   "source": [
    "train_data_path = os.path.join('data', 'train.csv')\n",
    "test_data_path = os.path.join('data', 'test.csv')"
   ]
  },
  {
   "cell_type": "code",
   "execution_count": 6,
   "metadata": {
    "id": "qCD2dYlDnCSv"
   },
   "outputs": [],
   "source": [
    "train = pd.read_csv(train_data_path)\n",
    "test = pd.read_csv(test_data_path)\n"
   ]
  },
  {
   "cell_type": "markdown",
   "metadata": {
    "id": "ITpfA0-zoaSc"
   },
   "source": [
    "## Transformacion de datos"
   ]
  },
  {
   "cell_type": "code",
   "execution_count": 7,
   "metadata": {
    "id": "Q-9Zlf7xorNP"
   },
   "outputs": [],
   "source": [
    "imputer = SimpleImputer(strategy='most_frequent', missing_values=np.nan)"
   ]
  },
  {
   "cell_type": "code",
   "execution_count": 8,
   "metadata": {
    "id": "6Va0WF7Bodoi"
   },
   "outputs": [],
   "source": [
    "def clean_data(data):\n",
    "  data.drop(['id','SalesChannelID','VehicleAge','DaysSinceCreated'], axis=1, inplace=True)\n",
    "\n",
    "  data['AnnualPremium'] = data['AnnualPremium'].str.replace('£', '').str.replace(',', '').astype(float)\n",
    "\n",
    "  for col in ['Gender', 'RegionID']:\n",
    "       data[col] = imputer.fit_transform(data[[col]]).flatten()\n",
    "\n",
    "  data['Age'] = data['Age'].fillna(data['Age'].median())\n",
    "  data['HasDrivingLicense']= data['HasDrivingLicense'].fillna(1)\n",
    "  data['Switch'] = data['Switch'].fillna(-1)\n",
    "  data['PastAccident'] = data['PastAccident'].fillna(\"Unknown\", inplace=False)\n",
    "\n",
    "  Q1 = data['AnnualPremium'].quantile(0.25)\n",
    "  Q3 = data['AnnualPremium'].quantile(0.75)\n",
    "  IQR = Q3 - Q1\n",
    "  upper_bound = Q3 + 1.5 * IQR\n",
    "  data = data[data['AnnualPremium'] <= upper_bound]\n",
    "\n",
    "  return data"
   ]
  },
  {
   "cell_type": "code",
   "execution_count": 9,
   "metadata": {
    "id": "V-zAzNtpo0nA"
   },
   "outputs": [],
   "source": [
    "train_data = clean_data(train)\n",
    "test_data = clean_data(test)\n"
   ]
  },
  {
   "cell_type": "code",
   "execution_count": 10,
   "metadata": {
    "colab": {
     "base_uri": "https://localhost:8080/",
     "height": 206
    },
    "id": "PUvmbfrsplKE",
    "outputId": "14288fcd-a443-41fa-fc71-e2c7314806cb"
   },
   "outputs": [
    {
     "data": {
      "text/html": [
       "<div>\n",
       "<style scoped>\n",
       "    .dataframe tbody tr th:only-of-type {\n",
       "        vertical-align: middle;\n",
       "    }\n",
       "\n",
       "    .dataframe tbody tr th {\n",
       "        vertical-align: top;\n",
       "    }\n",
       "\n",
       "    .dataframe thead th {\n",
       "        text-align: right;\n",
       "    }\n",
       "</style>\n",
       "<table border=\"1\" class=\"dataframe\">\n",
       "  <thead>\n",
       "    <tr style=\"text-align: right;\">\n",
       "      <th></th>\n",
       "      <th>Gender</th>\n",
       "      <th>Age</th>\n",
       "      <th>HasDrivingLicense</th>\n",
       "      <th>RegionID</th>\n",
       "      <th>Switch</th>\n",
       "      <th>PastAccident</th>\n",
       "      <th>AnnualPremium</th>\n",
       "      <th>Result</th>\n",
       "    </tr>\n",
       "  </thead>\n",
       "  <tbody>\n",
       "    <tr>\n",
       "      <th>0</th>\n",
       "      <td>Female</td>\n",
       "      <td>26.0</td>\n",
       "      <td>1.0</td>\n",
       "      <td>40.0</td>\n",
       "      <td>1.0</td>\n",
       "      <td>Yes</td>\n",
       "      <td>1416.50</td>\n",
       "      <td>0</td>\n",
       "    </tr>\n",
       "    <tr>\n",
       "      <th>1</th>\n",
       "      <td>Male</td>\n",
       "      <td>22.0</td>\n",
       "      <td>1.0</td>\n",
       "      <td>12.0</td>\n",
       "      <td>1.0</td>\n",
       "      <td>Unknown</td>\n",
       "      <td>1534.05</td>\n",
       "      <td>0</td>\n",
       "    </tr>\n",
       "    <tr>\n",
       "      <th>2</th>\n",
       "      <td>Female</td>\n",
       "      <td>41.0</td>\n",
       "      <td>1.0</td>\n",
       "      <td>28.0</td>\n",
       "      <td>-1.0</td>\n",
       "      <td>Unknown</td>\n",
       "      <td>1680.85</td>\n",
       "      <td>0</td>\n",
       "    </tr>\n",
       "    <tr>\n",
       "      <th>3</th>\n",
       "      <td>Male</td>\n",
       "      <td>25.0</td>\n",
       "      <td>1.0</td>\n",
       "      <td>10.0</td>\n",
       "      <td>1.0</td>\n",
       "      <td>No</td>\n",
       "      <td>1222.05</td>\n",
       "      <td>0</td>\n",
       "    </tr>\n",
       "    <tr>\n",
       "      <th>4</th>\n",
       "      <td>Male</td>\n",
       "      <td>58.0</td>\n",
       "      <td>1.0</td>\n",
       "      <td>28.0</td>\n",
       "      <td>-1.0</td>\n",
       "      <td>Unknown</td>\n",
       "      <td>2109.00</td>\n",
       "      <td>0</td>\n",
       "    </tr>\n",
       "  </tbody>\n",
       "</table>\n",
       "</div>"
      ],
      "text/plain": [
       "   Gender   Age  HasDrivingLicense  RegionID  Switch PastAccident  \\\n",
       "0  Female  26.0                1.0      40.0     1.0          Yes   \n",
       "1    Male  22.0                1.0      12.0     1.0      Unknown   \n",
       "2  Female  41.0                1.0      28.0    -1.0      Unknown   \n",
       "3    Male  25.0                1.0      10.0     1.0           No   \n",
       "4    Male  58.0                1.0      28.0    -1.0      Unknown   \n",
       "\n",
       "   AnnualPremium  Result  \n",
       "0        1416.50       0  \n",
       "1        1534.05       0  \n",
       "2        1680.85       0  \n",
       "3        1222.05       0  \n",
       "4        2109.00       0  "
      ]
     },
     "execution_count": 10,
     "metadata": {},
     "output_type": "execute_result"
    }
   ],
   "source": [
    "train_data.head()"
   ]
  },
  {
   "cell_type": "markdown",
   "metadata": {
    "id": "EYvsduqAxhPS"
   },
   "source": [
    "## Partición entre Train y Test"
   ]
  },
  {
   "cell_type": "code",
   "execution_count": 11,
   "metadata": {
    "id": "9wP3tffLp-Hf"
   },
   "outputs": [],
   "source": [
    "def feature_target_separator(data):\n",
    "    X = data.iloc[:, :-1]\n",
    "    y = data.iloc[:, -1]\n",
    "    return X, y\n"
   ]
  },
  {
   "cell_type": "code",
   "execution_count": 12,
   "metadata": {
    "id": "cBx2IXvVqD0r"
   },
   "outputs": [],
   "source": [
    "X_train, y_train = feature_target_separator(train_data)\n",
    "X_test, y_test = feature_target_separator(test_data)"
   ]
  },
  {
   "cell_type": "markdown",
   "metadata": {
    "id": "NNMOLeUMxne3"
   },
   "source": [
    "## Entrenamiento\n",
    "\n",
    "En esta función se crea un Pipeline de modelamiento; una función capaz de procesar los datos y guardar un modelo con la mejor versión de entrenamiento.\n",
    "\n",
    "Previamente deben haber evaluado distintos modelos con PYCARET y haber seleccionado el mejor, al seleccionarlo deben extraer sus hiperparámetros para incluirlos dentro de la función, aquí se esta tomando un RandomForestClassifier con sus hiperparámetros básicos, la idea es que prueben con otros modelos y otras combinaciones.\n",
    "\n",
    "*Sugerencia: Hacer un Randomized Search sobre el modelo seleccionado por pycaret para escoger los mejores hiperparámetros*"
   ]
  },
  {
   "cell_type": "code",
   "execution_count": 13,
   "metadata": {
    "id": "Xyc5kstlqH_F"
   },
   "outputs": [],
   "source": [
    "def create_pipeline():\n",
    "  preprocessor = ColumnTransformer(transformers=[\n",
    "      ('minmax', MinMaxScaler(), ['AnnualPremium']),\n",
    "      ('standardize', StandardScaler(), ['Age','RegionID']),\n",
    "      ('onehot', OneHotEncoder(handle_unknown='ignore'), ['Gender', 'PastAccident']),\n",
    "  ])\n",
    "\n",
    "  smote = SMOTE(sampling_strategy=1.0)\n",
    "\n",
    "  model_map = {\n",
    "      'RFClassifier': RandomForestClassifier,\n",
    "      'DecisionTreeClassifier': DecisionTreeClassifier,\n",
    "      'GradientBoostingClassifier': GradientBoostingClassifier}\n",
    "\n",
    "  model_class = model_map['RFClassifier']\n",
    "  model = model_class(\n",
    "      n_estimators=50,\n",
    "      max_depth=10,\n",
    "      min_samples_split=2,\n",
    "      min_samples_leaf=1,\n",
    "      random_state=42\n",
    "  )\n",
    "  pipeline = Pipeline([\n",
    "      ('preprocessor', preprocessor),\n",
    "      ('smote', smote),\n",
    "      ('model', model)\n",
    "  ])\n",
    "\n",
    "  return pipeline"
   ]
  },
  {
   "cell_type": "code",
   "execution_count": 14,
   "metadata": {
    "id": "FkiSR7DrtKzM"
   },
   "outputs": [],
   "source": [
    "pipeline = create_pipeline()"
   ]
  },
  {
   "cell_type": "code",
   "execution_count": 15,
   "metadata": {
    "id": "_fkKuFGjsdJW"
   },
   "outputs": [],
   "source": [
    "model = pipeline.fit(X_train, y_train)"
   ]
  },
  {
   "cell_type": "code",
   "execution_count": 16,
   "metadata": {
    "colab": {
     "base_uri": "https://localhost:8080/"
    },
    "collapsed": true,
    "id": "e35kLjTZt48p",
    "outputId": "b2523bbf-eb4a-4116-e624-eaacb5b923c2"
   },
   "outputs": [
    {
     "data": {
      "text/plain": [
       "['__abstractmethods__',\n",
       " '__annotations__',\n",
       " '__class__',\n",
       " '__delattr__',\n",
       " '__dict__',\n",
       " '__dir__',\n",
       " '__doc__',\n",
       " '__eq__',\n",
       " '__format__',\n",
       " '__ge__',\n",
       " '__getattribute__',\n",
       " '__getitem__',\n",
       " '__getstate__',\n",
       " '__gt__',\n",
       " '__hash__',\n",
       " '__init__',\n",
       " '__init_subclass__',\n",
       " '__le__',\n",
       " '__len__',\n",
       " '__lt__',\n",
       " '__module__',\n",
       " '__ne__',\n",
       " '__new__',\n",
       " '__reduce__',\n",
       " '__reduce_ex__',\n",
       " '__repr__',\n",
       " '__setattr__',\n",
       " '__setstate__',\n",
       " '__sizeof__',\n",
       " '__sklearn_clone__',\n",
       " '__sklearn_is_fitted__',\n",
       " '__str__',\n",
       " '__subclasshook__',\n",
       " '__weakref__',\n",
       " '_abc_impl',\n",
       " '_build_request_for_signature',\n",
       " '_can_fit_resample',\n",
       " '_can_fit_transform',\n",
       " '_can_inverse_transform',\n",
       " '_can_transform',\n",
       " '_check_feature_names',\n",
       " '_check_method_params',\n",
       " '_check_n_features',\n",
       " '_doc_link_module',\n",
       " '_doc_link_template',\n",
       " '_doc_link_url_param_generator',\n",
       " '_estimator_type',\n",
       " '_final_estimator',\n",
       " '_fit',\n",
       " '_get_default_requests',\n",
       " '_get_doc_link',\n",
       " '_get_metadata_request',\n",
       " '_get_param_names',\n",
       " '_get_params',\n",
       " '_get_tags',\n",
       " '_iter',\n",
       " '_log_message',\n",
       " '_more_tags',\n",
       " '_parameter_constraints',\n",
       " '_replace_estimator',\n",
       " '_repr_html_',\n",
       " '_repr_html_inner',\n",
       " '_repr_mimebundle_',\n",
       " '_required_parameters',\n",
       " '_set_params',\n",
       " '_sk_visual_block_',\n",
       " '_validate_data',\n",
       " '_validate_names',\n",
       " '_validate_params',\n",
       " '_validate_steps',\n",
       " 'classes_',\n",
       " 'decision_function',\n",
       " 'feature_names_in_',\n",
       " 'fit',\n",
       " 'fit_predict',\n",
       " 'fit_resample',\n",
       " 'fit_transform',\n",
       " 'get_feature_names_out',\n",
       " 'get_metadata_routing',\n",
       " 'get_params',\n",
       " 'inverse_transform',\n",
       " 'memory',\n",
       " 'n_features_in_',\n",
       " 'named_steps',\n",
       " 'predict',\n",
       " 'predict_log_proba',\n",
       " 'predict_proba',\n",
       " 'score',\n",
       " 'score_samples',\n",
       " 'set_output',\n",
       " 'set_params',\n",
       " 'set_score_request',\n",
       " 'steps',\n",
       " 'transform',\n",
       " 'verbose']"
      ]
     },
     "execution_count": 16,
     "metadata": {},
     "output_type": "execute_result"
    }
   ],
   "source": [
    "dir(model)"
   ]
  },
  {
   "cell_type": "markdown",
   "metadata": {
    "id": "hOeb2eMSytrL"
   },
   "source": [
    "## Guardado del modelo"
   ]
  },
  {
   "cell_type": "code",
   "execution_count": 18,
   "metadata": {
    "colab": {
     "base_uri": "https://localhost:8080/"
    },
    "id": "Cm47wqoUwNF6",
    "outputId": "eea82c12-0ebb-4e6b-a2c5-ecb0e58330e8"
   },
   "outputs": [
    {
     "data": {
      "text/plain": [
       "['models/model_RF.pkl']"
      ]
     },
     "execution_count": 18,
     "metadata": {},
     "output_type": "execute_result"
    }
   ],
   "source": [
    "joblib.dump(model, 'models/model_RF.pkl')"
   ]
  },
  {
   "cell_type": "markdown",
   "metadata": {
    "id": "q7PJax9oy1CC"
   },
   "source": [
    "## Evaluación del modelo"
   ]
  },
  {
   "cell_type": "code",
   "execution_count": 19,
   "metadata": {
    "id": "JnNxlcE6w3oC"
   },
   "outputs": [],
   "source": [
    "from sklearn.metrics import accuracy_score, classification_report, roc_auc_score"
   ]
  },
  {
   "cell_type": "code",
   "execution_count": 21,
   "metadata": {
    "id": "Gph_0xWluGMF"
   },
   "outputs": [],
   "source": [
    "def evaluate_model(X_test, y_test):\n",
    "  y_pred = model.predict(X_test)\n",
    "  accuracy = accuracy_score(y_test, y_pred)\n",
    "  class_report = classification_report(y_test, y_pred)\n",
    "  roc_auc = roc_auc_score(y_test, y_pred)\n",
    "  return accuracy, class_report, roc_auc\n"
   ]
  },
  {
   "cell_type": "code",
   "execution_count": 22,
   "metadata": {
    "id": "hq1SNTneuEAB"
   },
   "outputs": [],
   "source": [
    "accuracy, class_report, roc_auc_score = evaluate_model(X_test, y_test)"
   ]
  },
  {
   "cell_type": "code",
   "execution_count": 23,
   "metadata": {
    "colab": {
     "base_uri": "https://localhost:8080/"
    },
    "id": "hpyJQujBxFna",
    "outputId": "19e4f6c2-e97a-4d21-9bba-8ffdc0bc1362"
   },
   "outputs": [
    {
     "name": "stdout",
     "output_type": "stream",
     "text": [
      "Accuracy Score: 0.6285, ROC AUC Score: 0.7251\n",
      "\n",
      "              precision    recall  f1-score   support\n",
      "\n",
      "           0       0.97      0.60      0.74     85582\n",
      "           1       0.23      0.85      0.36     11752\n",
      "\n",
      "    accuracy                           0.63     97334\n",
      "   macro avg       0.60      0.73      0.55     97334\n",
      "weighted avg       0.88      0.63      0.69     97334\n",
      "\n"
     ]
    }
   ],
   "source": [
    "print(f\"Accuracy Score: {accuracy:.4f}, ROC AUC Score: {roc_auc_score:.4f}\")\n",
    "print(f\"\\n{class_report}\")\n"
   ]
  },
  {
   "cell_type": "markdown",
   "metadata": {},
   "source": []
  }
 ],
 "metadata": {
  "colab": {
   "provenance": []
  },
  "kernelspec": {
   "display_name": "myenv",
   "language": "python",
   "name": "python3"
  },
  "language_info": {
   "codemirror_mode": {
    "name": "ipython",
    "version": 3
   },
   "file_extension": ".py",
   "mimetype": "text/x-python",
   "name": "python",
   "nbconvert_exporter": "python",
   "pygments_lexer": "ipython3",
   "version": "3.11.5"
  }
 },
 "nbformat": 4,
 "nbformat_minor": 0
}
